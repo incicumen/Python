{
 "cells": [
  {
   "cell_type": "code",
   "execution_count": 7,
   "id": "d2b3081d",
   "metadata": {},
   "outputs": [
    {
     "name": "stdout",
     "output_type": "stream",
     "text": [
      "[1, 2, 3, 4, 6, 8, 25, 56, 62, 65, 78, 86]\n"
     ]
    }
   ],
   "source": [
    "sayilar = [8,1,6,25,4,62,56,86,2,3,78,65]\n",
    "print (sorted(sayilar))"
   ]
  },
  {
   "cell_type": "code",
   "execution_count": 16,
   "id": "70aeac0b",
   "metadata": {},
   "outputs": [
    {
     "name": "stdout",
     "output_type": "stream",
     "text": [
      "[1, 2, 3, 4, 6, 8, 25, 56, 62, 65, 78, 86]\n"
     ]
    }
   ],
   "source": [
    "sayilar = [8,1,6,25,4,62,56,86,2,3,78,65]\n",
    "for i in range(len(sayilar)-1):\n",
    "    for j in reversed(range(i+1, len(sayilar))):\n",
    "        if sayilar[j] < sayilar[j-1]:\n",
    "            depo = sayilar[j-1]\n",
    "            sayilar[j-1] = sayilar[j]\n",
    "            sayilar[j] = depo\n",
    "            \n",
    "print(sayilar)\n",
    "\n"
   ]
  },
  {
   "cell_type": "code",
   "execution_count": null,
   "id": "c3f698da",
   "metadata": {},
   "outputs": [],
   "source": []
  }
 ],
 "metadata": {
  "kernelspec": {
   "display_name": "Python 3 (ipykernel)",
   "language": "python",
   "name": "python3"
  },
  "language_info": {
   "codemirror_mode": {
    "name": "ipython",
    "version": 3
   },
   "file_extension": ".py",
   "mimetype": "text/x-python",
   "name": "python",
   "nbconvert_exporter": "python",
   "pygments_lexer": "ipython3",
   "version": "3.9.7"
  }
 },
 "nbformat": 4,
 "nbformat_minor": 5
}
