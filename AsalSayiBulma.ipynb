{
 "cells": [
  {
   "cell_type": "code",
   "execution_count": 6,
   "id": "d4742a7d",
   "metadata": {},
   "outputs": [
    {
     "name": "stdout",
     "output_type": "stream",
     "text": [
      "Lütfen 1.sayiyi giriniz : 5\n",
      "Lütfen 2.sayiyi giriniz : 40\n",
      "5 ile 40 arasındaki asal sayılar:\n",
      "5\n",
      "7\n",
      "11\n",
      "13\n",
      "17\n",
      "19\n",
      "23\n",
      "29\n",
      "31\n",
      "37\n"
     ]
    }
   ],
   "source": [
    "sayi1 = int(input(\"Lütfen 1.sayiyi giriniz : \"))\n",
    "sayi2 = int(input(\"Lütfen 2.sayiyi giriniz : \"))\n",
    " \n",
    "print(sayi1,\"ile\",sayi2,\"arasındaki asal sayılar:\")\n",
    " \n",
    "for sayi in range(sayi1,sayi2 + 1):\n",
    "   if sayi > 1:\n",
    "       for i in range(2,sayi):\n",
    "           if (sayi % i) == 0:\n",
    "               break\n",
    "       else:\n",
    "           print(sayi)"
   ]
  },
  {
   "cell_type": "code",
   "execution_count": null,
   "id": "72b75b1e",
   "metadata": {},
   "outputs": [],
   "source": []
  }
 ],
 "metadata": {
  "kernelspec": {
   "display_name": "Python 3 (ipykernel)",
   "language": "python",
   "name": "python3"
  },
  "language_info": {
   "codemirror_mode": {
    "name": "ipython",
    "version": 3
   },
   "file_extension": ".py",
   "mimetype": "text/x-python",
   "name": "python",
   "nbconvert_exporter": "python",
   "pygments_lexer": "ipython3",
   "version": "3.9.7"
  }
 },
 "nbformat": 4,
 "nbformat_minor": 5
}
