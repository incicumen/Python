{
 "cells": [
  {
   "cell_type": "code",
   "execution_count": 1,
   "id": "ad7a10fc",
   "metadata": {},
   "outputs": [
    {
     "name": "stdout",
     "output_type": "stream",
     "text": [
      "Kısa kenarı giriniz : 4\n",
      "Uzun kenarı giriniz : 5\n",
      "Dikdörtgenin Alani : 20\n"
     ]
    }
   ],
   "source": [
    "kisaKenar = input(\"Kısa kenarı giriniz : \")\n",
    "uzunKenar = input(\"Uzun kenarı giriniz : \")\n",
    "\n",
    "alan = int(kisaKenar) * int(uzunKenar)\n",
    "\n",
    "print(\"Dikdörtgenin Alani : {0}\".format(alan))"
   ]
  },
  {
   "cell_type": "code",
   "execution_count": null,
   "id": "bca7e682",
   "metadata": {},
   "outputs": [],
   "source": []
  }
 ],
 "metadata": {
  "kernelspec": {
   "display_name": "Python 3 (ipykernel)",
   "language": "python",
   "name": "python3"
  },
  "language_info": {
   "codemirror_mode": {
    "name": "ipython",
    "version": 3
   },
   "file_extension": ".py",
   "mimetype": "text/x-python",
   "name": "python",
   "nbconvert_exporter": "python",
   "pygments_lexer": "ipython3",
   "version": "3.9.7"
  }
 },
 "nbformat": 4,
 "nbformat_minor": 5
}
