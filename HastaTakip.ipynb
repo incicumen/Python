{
 "cells": [
  {
   "cell_type": "code",
   "execution_count": 3,
   "id": "ca32ed82",
   "metadata": {},
   "outputs": [
    {
     "name": "stdout",
     "output_type": "stream",
     "text": [
      "10 gun, 1 ay, 0 yil kaldi\n"
     ]
    }
   ],
   "source": [
    "import datetime\n",
    "\n",
    "class HastaTakip:\n",
    "    hastaTc = 0\n",
    "    hastaAd = \"\"\n",
    "    hastaSoyad = \"\"\n",
    "    hastaAdres = \"\"\n",
    "    hastaRandevuTarih = \"\"\n",
    "    hastaRandevuBolum = \"\"\n",
    "    \n",
    "    def __init__(self):\n",
    "        self.hastaTc = 0\n",
    "        self.hastaAd = \"\"\n",
    "        self.hastaSoyad = \"\"\n",
    "        self.hastaAdres = \"\"\n",
    "        self.hastaRandevuTarih = \"\"\n",
    "        self.hastaRandevuBolum = \"\"\n",
    "        \n",
    "    def __init__(self, hastaTc, hastaAd, hastaSoyad, hastaAdres, hastaRandevuTarih, hastaRandevuBolum):\n",
    "        self.hastaTc, self.hastaAd, self.hastaSoyad = hastaTc, hastaAd, hastaSoyad\n",
    "        self.hastaAdres, self.hastaRandevuTarih, self.hastaRandevuBolum = hastaAdres, hastaRandevuTarih, hastaRandevuBolum\n",
    "        \n",
    "    def sethastaTc(self, hastaTc):\n",
    "        self.hastaTc = hastaTc\n",
    "\n",
    "    def sethastaAd(self, hastaAd):\n",
    "        self.hastaAd = hastaAd\n",
    "\n",
    "    def sethastaSoyad(self, hastaSoyad):\n",
    "        self.hastaSoyad = hastaSoyad\n",
    "\n",
    "    def gethastaTc(self):\n",
    "        return self.hastaTc\n",
    "\n",
    "    def gethastaAd(self):\n",
    "        return self.hastaAd\n",
    "\n",
    "    def gethastaSoyad(self):\n",
    "        return self.hastaSoyad\n",
    "    \n",
    "\n",
    "    def RandevuCalculater(self):\n",
    "        guncel = datetime.datetime.now()\n",
    "\n",
    "        gun,ay,yil = self.hastaRandevuTarih.split(\"/\")\n",
    "        RandevuTarih = datetime.date(int(yil),int(ay),int(gun))\n",
    "\n",
    "        if RandevuTarih.year >= guncel.year:\n",
    "            yil = RandevuTarih.year - guncel.year\n",
    "        else:\n",
    "            print(\"randevu tarihi gecmictir\")\n",
    "\n",
    "        if RandevuTarih.month >= guncel.month:\n",
    "            ay = RandevuTarih.month - guncel.month\n",
    "        elif RandevuTarih.month < guncel.month and yil >= 1:\n",
    "            ay = RandevuTarih.month - guncel.month + 12\n",
    "            yil = yil - 1\n",
    "        else:\n",
    "            print(\"randevu tarihi gecmictir\")\n",
    "\n",
    "        if RandevuTarih.day >= guncel.day:\n",
    "            gun = RandevuTarih.day - guncel.day\n",
    "        elif RandevuTarih.day < guncel.day and ay >= 1:\n",
    "            gun = RandevuTarih.day - guncel.day + 30\n",
    "            ay = ay - 1\n",
    "\n",
    "\n",
    "        print(\"{} gun, {} ay, {} yil kaldi\".format(gun,ay,yil))\n",
    "        \n",
    "        \n",
    "hasta1 = HastaTakip(121232, \"Rasim\", \"ÇÜMEN\", \"Çankaya\", \"16/7/2022\", \"Kardiyoloji\")\n",
    "\n",
    "hasta1.hastaAd \n",
    "\n",
    "hasta1.RandevuCalculater()\n",
    "        "
   ]
  },
  {
   "cell_type": "code",
   "execution_count": 56,
   "id": "69795605",
   "metadata": {},
   "outputs": [
    {
     "data": {
      "text/plain": [
       "'Gökhan'"
      ]
     },
     "execution_count": 56,
     "metadata": {},
     "output_type": "execute_result"
    }
   ],
   "source": [
    "hasta1.sethastaAd(\"Gökhan\")\n",
    "hasta1.hastaAd"
   ]
  },
  {
   "cell_type": "code",
   "execution_count": 55,
   "id": "039563b2",
   "metadata": {},
   "outputs": [
    {
     "data": {
      "text/plain": [
       "'ÇÜMEN'"
      ]
     },
     "execution_count": 55,
     "metadata": {},
     "output_type": "execute_result"
    }
   ],
   "source": [
    "hasta1.gethastaSoyad()"
   ]
  },
  {
   "cell_type": "code",
   "execution_count": 31,
   "id": "1a6b427c",
   "metadata": {},
   "outputs": [
    {
     "name": "stdout",
     "output_type": "stream",
     "text": [
      "3 gun, 0 ay, 0 yil kaldi\n"
     ]
    }
   ],
   "source": [
    "import datetime\n",
    "\n",
    "guncel = datetime.datetime.now()\n",
    "RandevuTarih = date(2022, 6, 8)\n",
    "\n",
    "if RandevuTarih.year >= guncel.year:\n",
    "    yil = RandevuTarih.year - guncel.year\n",
    "else:\n",
    "    print(\"randevu tarihi gecmictir\")\n",
    "\n",
    "if RandevuTarih.month >= guncel.month:\n",
    "    ay = RandevuTarih.month - guncel.month\n",
    "elif RandevuTarih.month < guncel.month and yil >= 1:\n",
    "    ay = RandevuTarih.month - guncel.month + 12\n",
    "    yil = yil - 1\n",
    "else:\n",
    "    print(\"randevu tarihi gecmictir\")\n",
    "\n",
    "if RandevuTarih.day >= guncel.day:\n",
    "    gun = RandevuTarih.day - guncel.day\n",
    "elif RandevuTarih.day < guncel.day and ay >= 1:\n",
    "    gun = RandevuTarih.day - guncel.day + 30\n",
    "    ay = ay - 1\n",
    "\n",
    "\n",
    "print(\"{} gun, {} ay, {} yil kaldi\".format(gun,ay,yil))\n"
   ]
  },
  {
   "cell_type": "code",
   "execution_count": null,
   "id": "d95ab4dc",
   "metadata": {},
   "outputs": [],
   "source": []
  }
 ],
 "metadata": {
  "kernelspec": {
   "display_name": "Python 3 (ipykernel)",
   "language": "python",
   "name": "python3"
  },
  "language_info": {
   "codemirror_mode": {
    "name": "ipython",
    "version": 3
   },
   "file_extension": ".py",
   "mimetype": "text/x-python",
   "name": "python",
   "nbconvert_exporter": "python",
   "pygments_lexer": "ipython3",
   "version": "3.9.7"
  }
 },
 "nbformat": 4,
 "nbformat_minor": 5
}
