{
 "cells": [
  {
   "cell_type": "code",
   "execution_count": 16,
   "id": "5e150248",
   "metadata": {},
   "outputs": [
    {
     "name": "stdout",
     "output_type": "stream",
     "text": [
      "İlk sayiyi girin : 1\n",
      "İkinci sayiyi girin : 16\n",
      "1\n",
      "2\n",
      "3\n",
      "5\n",
      "7\n",
      "11\n",
      "13\n"
     ]
    }
   ],
   "source": [
    "sayi1 = int(input(\"İlk sayiyi girin : \"))\n",
    "sayi2 = int(input(\"İkinci sayiyi girin : \"))\n",
    "\n",
    "for sayi in range(sayi1,sayi2+1):\n",
    "    for i in range(2,sayi):\n",
    "        if(sayi%i == 0):\n",
    "            break\n",
    "    else:\n",
    "        print(sayi)"
   ]
  },
  {
   "cell_type": "code",
   "execution_count": null,
   "id": "034cd9e7",
   "metadata": {},
   "outputs": [],
   "source": []
  }
 ],
 "metadata": {
  "kernelspec": {
   "display_name": "Python 3 (ipykernel)",
   "language": "python",
   "name": "python3"
  },
  "language_info": {
   "codemirror_mode": {
    "name": "ipython",
    "version": 3
   },
   "file_extension": ".py",
   "mimetype": "text/x-python",
   "name": "python",
   "nbconvert_exporter": "python",
   "pygments_lexer": "ipython3",
   "version": "3.9.7"
  }
 },
 "nbformat": 4,
 "nbformat_minor": 5
}
