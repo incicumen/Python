{
 "cells": [
  {
   "cell_type": "code",
   "execution_count": 2,
   "id": "dcdc7ff2",
   "metadata": {},
   "outputs": [
    {
     "name": "stdout",
     "output_type": "stream",
     "text": [
      "Lütfen bir sayi giriniz :2020\n",
      "Basamak sayisi : 4\n"
     ]
    }
   ],
   "source": [
    "sayi = str(input(\"Lütfen bir sayi giriniz : \"))\n",
    "basamak = len(sayi)\n",
    "print(\"Basamak sayisi : {}\".format(basamak)) "
   ]
  },
  {
   "cell_type": "code",
   "execution_count": 3,
   "id": "352e518d",
   "metadata": {},
   "outputs": [
    {
     "name": "stdout",
     "output_type": "stream",
     "text": [
      "Bir sayi giriniz :88\n",
      "sayinin rakamlari toplami : 16\n"
     ]
    }
   ],
   "source": [
    "sayi = input(\"Bir sayi giriniz : \")\n",
    "toplam = 0\n",
    "for rakam in sayi:\n",
    "    toplam += int(rakam)\n",
    "    \n",
    "print(\"sayinin rakamlari toplami :\" , toplam)"
   ]
  },
  {
   "cell_type": "code",
   "execution_count": null,
   "id": "63bb2cc3",
   "metadata": {},
   "outputs": [],
   "source": []
  }
 ],
 "metadata": {
  "kernelspec": {
   "display_name": "Python 3 (ipykernel)",
   "language": "python",
   "name": "python3"
  },
  "language_info": {
   "codemirror_mode": {
    "name": "ipython",
    "version": 3
   },
   "file_extension": ".py",
   "mimetype": "text/x-python",
   "name": "python",
   "nbconvert_exporter": "python",
   "pygments_lexer": "ipython3",
   "version": "3.9.7"
  }
 },
 "nbformat": 4,
 "nbformat_minor": 5
}
