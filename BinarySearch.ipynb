{
 "cells": [
  {
   "cell_type": "code",
   "execution_count": 73,
   "id": "fa70768a",
   "metadata": {},
   "outputs": [
    {
     "name": "stdout",
     "output_type": "stream",
     "text": [
      "[2, 3, 4, 6, 7, 8, 9, 12, 13, 14, 15, 17, 18]\n",
      "5\n"
     ]
    }
   ],
   "source": [
    "def recursivebinarySearch(arr1, arananDeger):\n",
    "    bas = 0\n",
    "    son = len(arr1) - 1 \n",
    "    orta = (int)(len(arr2)/2)\n",
    "    while bas <= son:\n",
    "        orta = bas + (son - bas)\n",
    "        ortanca = arr1[orta]\n",
    "        \n",
    "        if ortanca == arananDeger:\n",
    "            return orta\n",
    "        elif arananDeger < ortanca:\n",
    "            son = orta -1\n",
    "            \n",
    "        else:\n",
    "            bas = orta + 1\n",
    "            \n",
    "    return None\n",
    "\n",
    "arr2 = [2,3,4,6,9,8,7,12,13,15,14,17,18]\n",
    "arr2.sort()\n",
    "arananDeger = 8\n",
    "print(arr2) \n",
    "print(recursivebinarySearch(arr2, arananDeger))"
   ]
  },
  {
   "cell_type": "code",
   "execution_count": null,
   "id": "48250798",
   "metadata": {},
   "outputs": [],
   "source": []
  }
 ],
 "metadata": {
  "kernelspec": {
   "display_name": "Python 3 (ipykernel)",
   "language": "python",
   "name": "python3"
  },
  "language_info": {
   "codemirror_mode": {
    "name": "ipython",
    "version": 3
   },
   "file_extension": ".py",
   "mimetype": "text/x-python",
   "name": "python",
   "nbconvert_exporter": "python",
   "pygments_lexer": "ipython3",
   "version": "3.9.7"
  }
 },
 "nbformat": 4,
 "nbformat_minor": 5
}
